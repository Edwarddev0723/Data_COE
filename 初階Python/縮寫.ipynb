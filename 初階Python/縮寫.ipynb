{
 "cells": [
  {
   "cell_type": "code",
   "execution_count": 1,
   "metadata": {},
   "outputs": [
    {
     "name": "stdout",
     "output_type": "stream",
     "text": [
      "ASAP\n",
      "ASAP\n",
      "please do it as soon as possible\n",
      "謝謝使用!\n"
     ]
    }
   ],
   "source": [
    "def abbreviate(phrase):\n",
    "    # 將所有單字轉為小寫並分割\n",
    "    words = phrase.lower().split()\n",
    "    \n",
    "    # 特定縮寫的字典\n",
    "    abbreviations = {\n",
    "        \"as soon as possible\": \"ASAP\"\n",
    "    }\n",
    "    \n",
    "    # 檢查完整的短語是否在縮寫字典中\n",
    "    full_phrase = \" \".join(words)\n",
    "    if full_phrase in abbreviations:\n",
    "        return abbreviations[full_phrase]\n",
    "    \n",
    "    # 如果找不到匹配的縮寫，返回原始短語\n",
    "    return phrase\n",
    "\n",
    "# 測試函數\n",
    "print(abbreviate(\"as soon as possible\"))  # 應該輸出: ASAP\n",
    "print(abbreviate(\"please do it as soon as possible\"))  # 應該輸出: please do it as soon as possible\n",
    "\n"
   ]
  },
  {
   "cell_type": "code",
   "execution_count": null,
   "metadata": {},
   "outputs": [],
   "source": [
    "# 互動模式\n",
    "while True:\n",
    "    user_input = input(\"請輸入一個短語 (或輸入 'q' 退出): \")\n",
    "    if user_input.lower() == 'q':\n",
    "        break\n",
    "    print(\"縮寫結果:\", abbreviate(user_input))\n",
    "\n",
    "print(\"謝謝使用!\")"
   ]
  }
 ],
 "metadata": {
  "kernelspec": {
   "display_name": "Python 3",
   "language": "python",
   "name": "python3"
  },
  "language_info": {
   "codemirror_mode": {
    "name": "ipython",
    "version": 3
   },
   "file_extension": ".py",
   "mimetype": "text/x-python",
   "name": "python",
   "nbconvert_exporter": "python",
   "pygments_lexer": "ipython3",
   "version": "3.11.9"
  }
 },
 "nbformat": 4,
 "nbformat_minor": 2
}

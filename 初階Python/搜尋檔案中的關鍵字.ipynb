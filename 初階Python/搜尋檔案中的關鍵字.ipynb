{
 "cells": [
  {
   "cell_type": "code",
   "execution_count": null,
   "metadata": {},
   "outputs": [],
   "source": [
    "import os\n",
    "\n",
    "def find_files_with_keyword(folder_path, keyword):\n",
    "    matching_files = []\n",
    "    \n",
    "    # 將關鍵字轉換為小寫以進行不區分大小寫的搜索\n",
    "    keyword = keyword.lower()\n",
    "    \n",
    "    # 遍歷指定資料夾中的所有檔案\n",
    "    for filename in os.listdir(folder_path):\n",
    "        if filename.endswith(\".txt\"):\n",
    "            file_path = os.path.join(folder_path, filename)\n",
    "            try:\n",
    "                with open(file_path, 'r', encoding='utf-8') as file:\n",
    "                    content = file.read().lower()\n",
    "                    if keyword in content:\n",
    "                        matching_files.append(filename)\n",
    "            except Exception as e:\n",
    "                print(f\"無法讀取檔案 {filename}: {str(e)}\")\n",
    "    \n",
    "    return matching_files\n",
    "\n",
    "# 使用示例\n",
    "folder_path = \"/path/to/your/folder\"  # 替換為您的資料夾路徑\n",
    "keyword = \"預算\"\n",
    "\n",
    "matching_files = find_files_with_keyword(folder_path, keyword)\n",
    "\n",
    "if matching_files:\n",
    "    print(f\"以下檔案包含關鍵字 '{keyword}':\")\n",
    "    for file in matching_files:\n",
    "        print(file)\n",
    "else:\n",
    "    print(f\"沒有找到包含關鍵字 '{keyword}' 的檔案。\")"
   ]
  }
 ],
 "metadata": {
  "language_info": {
   "name": "python"
  }
 },
 "nbformat": 4,
 "nbformat_minor": 2
}

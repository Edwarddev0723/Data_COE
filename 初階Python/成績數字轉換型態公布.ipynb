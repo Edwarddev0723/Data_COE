{
 "cells": [
  {
   "cell_type": "code",
   "execution_count": null,
   "metadata": {},
   "outputs": [],
   "source": [
    "name = input('What is your name? \\n')\n",
    "score = input('What is your score? \\n')\n",
    "\n",
    "nameHide = name[0]+'+'+name[2:]\n",
    "\n",
    "score = float(score) + 10\n",
    "\n",
    "print(nameHide+'的分數是'+str(score))"
   ]
  }
 ],
 "metadata": {
  "language_info": {
   "name": "python"
  }
 },
 "nbformat": 4,
 "nbformat_minor": 2
}

{
 "cells": [
  {
   "cell_type": "code",
   "execution_count": 1,
   "metadata": {},
   "outputs": [
    {
     "name": "stdout",
     "output_type": "stream",
     "text": [
      "歡迎來到剪刀石頭布遊戲!\n",
      "你選擇了 剪刀\n",
      "電腦選擇了 石頭\n",
      "電腦贏了!\n",
      "\n",
      "你選擇了 石頭\n",
      "電腦選擇了 布\n",
      "電腦贏了!\n",
      "\n",
      "你選擇了 布\n",
      "電腦選擇了 石頭\n",
      "你贏了!\n",
      "\n",
      "無效的選擇,請重試。\n",
      "你選擇了 石頭\n",
      "電腦選擇了 剪刀\n",
      "你贏了!\n",
      "\n",
      "你選擇了 剪刀\n",
      "電腦選擇了 石頭\n",
      "電腦贏了!\n",
      "\n",
      "你選擇了 剪刀\n",
      "電腦選擇了 石頭\n",
      "電腦贏了!\n",
      "\n",
      "你選擇了 剪刀\n",
      "電腦選擇了 布\n",
      "你贏了!\n",
      "\n",
      "謝謝遊玩,再見!\n"
     ]
    }
   ],
   "source": [
    "import random\n",
    "\n",
    "def get_user_choice():\n",
    "    while True:\n",
    "        choice = input(\"請選擇 剪刀(1), 石頭(2), 或布(3), 或輸入 'q' 退出: \")\n",
    "        if choice in ['1', '2', '3', 'q']:\n",
    "            return choice\n",
    "        print(\"無效的選擇,請重試。\")\n",
    "\n",
    "def get_computer_choice():\n",
    "    return random.choice(['剪刀', '石頭', '布'])\n",
    "\n",
    "def determine_winner(user, computer):\n",
    "    if user == computer:\n",
    "        return \"平局!\"\n",
    "    if (user == '剪刀' and computer == '布') or \\\n",
    "       (user == '石頭' and computer == '剪刀') or \\\n",
    "       (user == '布' and computer == '石頭'):\n",
    "        return \"你贏了!\"\n",
    "    return \"電腦贏了!\"\n",
    "\n",
    "choices = {\n",
    "    '1': '剪刀',\n",
    "    '2': '石頭',\n",
    "    '3': '布'\n",
    "}\n",
    "\n",
    "print(\"歡迎來到剪刀石頭布遊戲!\")\n",
    "\n",
    "while True:\n",
    "    user_choice = get_user_choice()\n",
    "    if user_choice == 'q':\n",
    "        print(\"謝謝遊玩,再見!\")\n",
    "        break\n",
    "    \n",
    "    user_choice = choices[user_choice]\n",
    "    computer_choice = get_computer_choice()\n",
    "    \n",
    "    print(f\"你選擇了 {user_choice}\")\n",
    "    print(f\"電腦選擇了 {computer_choice}\")\n",
    "    \n",
    "    result = determine_winner(user_choice, computer_choice)\n",
    "    print(result)\n",
    "    print()"
   ]
  },
  {
   "cell_type": "code",
   "execution_count": null,
   "metadata": {},
   "outputs": [],
   "source": []
  }
 ],
 "metadata": {
  "kernelspec": {
   "display_name": "Python 3",
   "language": "python",
   "name": "python3"
  },
  "language_info": {
   "codemirror_mode": {
    "name": "ipython",
    "version": 3
   },
   "file_extension": ".py",
   "mimetype": "text/x-python",
   "name": "python",
   "nbconvert_exporter": "python",
   "pygments_lexer": "ipython3",
   "version": "3.11.9"
  }
 },
 "nbformat": 4,
 "nbformat_minor": 2
}

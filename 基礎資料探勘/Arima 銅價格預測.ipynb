{
 "cells": [
  {
   "cell_type": "markdown",
   "metadata": {},
   "source": [
    "## Import Package"
   ]
  },
  {
   "cell_type": "code",
   "execution_count": 94,
   "metadata": {},
   "outputs": [],
   "source": [
    "import pandas as pd\n",
    "from pmdarima.arima import ndiffs\n",
    "from matplotlib import pyplot as plt \n",
    "from statsmodels.graphics.tsaplots import plot_pacf, plot_acf\n",
    "from statsmodels.tsa.seasonal import seasonal_decompose\n",
    "from statsmodels.tsa.arima.model import ARIMA\n",
    "import numpy as np\n",
    "from statsmodels.tsa.stattools import adfuller  # Correct import\n",
    "import statsmodels.api as sm\n",
    "import itertools\n",
    "import warnings\n",
    "warnings.filterwarnings('ignore')"
   ]
  },
  {
   "cell_type": "markdown",
   "metadata": {},
   "source": [
    "## Data Process"
   ]
  },
  {
   "cell_type": "code",
   "execution_count": 95,
   "metadata": {},
   "outputs": [
    {
     "data": {
      "text/html": [
       "<div>\n",
       "<style scoped>\n",
       "    .dataframe tbody tr th:only-of-type {\n",
       "        vertical-align: middle;\n",
       "    }\n",
       "\n",
       "    .dataframe tbody tr th {\n",
       "        vertical-align: top;\n",
       "    }\n",
       "\n",
       "    .dataframe thead th {\n",
       "        text-align: right;\n",
       "    }\n",
       "</style>\n",
       "<table border=\"1\" class=\"dataframe\">\n",
       "  <thead>\n",
       "    <tr style=\"text-align: right;\">\n",
       "      <th></th>\n",
       "      <th>Date</th>\n",
       "      <th>Close</th>\n",
       "      <th>Volume</th>\n",
       "      <th>Open</th>\n",
       "      <th>High</th>\n",
       "      <th>Low</th>\n",
       "    </tr>\n",
       "  </thead>\n",
       "  <tbody>\n",
       "    <tr>\n",
       "      <th>0</th>\n",
       "      <td>08/13/2024</td>\n",
       "      <td>4.0855</td>\n",
       "      <td>20096</td>\n",
       "      <td>4.1005</td>\n",
       "      <td>4.109</td>\n",
       "      <td>4.0455</td>\n",
       "    </tr>\n",
       "    <tr>\n",
       "      <th>1</th>\n",
       "      <td>08/12/2024</td>\n",
       "      <td>4.0685</td>\n",
       "      <td>48834</td>\n",
       "      <td>3.9830</td>\n",
       "      <td>4.093</td>\n",
       "      <td>3.9710</td>\n",
       "    </tr>\n",
       "    <tr>\n",
       "      <th>2</th>\n",
       "      <td>08/09/2024</td>\n",
       "      <td>3.9930</td>\n",
       "      <td>48657</td>\n",
       "      <td>3.9835</td>\n",
       "      <td>4.049</td>\n",
       "      <td>3.9740</td>\n",
       "    </tr>\n",
       "    <tr>\n",
       "      <th>3</th>\n",
       "      <td>08/08/2024</td>\n",
       "      <td>3.9590</td>\n",
       "      <td>61544</td>\n",
       "      <td>3.9315</td>\n",
       "      <td>3.984</td>\n",
       "      <td>3.9235</td>\n",
       "    </tr>\n",
       "    <tr>\n",
       "      <th>4</th>\n",
       "      <td>08/07/2024</td>\n",
       "      <td>3.9520</td>\n",
       "      <td>62696</td>\n",
       "      <td>4.0080</td>\n",
       "      <td>4.016</td>\n",
       "      <td>3.9210</td>\n",
       "    </tr>\n",
       "  </tbody>\n",
       "</table>\n",
       "</div>"
      ],
      "text/plain": [
       "         Date   Close  Volume    Open   High     Low\n",
       "0  08/13/2024  4.0855   20096  4.1005  4.109  4.0455\n",
       "1  08/12/2024  4.0685   48834  3.9830  4.093  3.9710\n",
       "2  08/09/2024  3.9930   48657  3.9835  4.049  3.9740\n",
       "3  08/08/2024  3.9590   61544  3.9315  3.984  3.9235\n",
       "4  08/07/2024  3.9520   62696  4.0080  4.016  3.9210"
      ]
     },
     "execution_count": 95,
     "metadata": {},
     "output_type": "execute_result"
    }
   ],
   "source": [
    "Copper_price = pd.read_csv('Data/Copper-price.csv')\n",
    "Copper_price.rename(columns={'Close/Last':\"Close\"}, inplace=True)\n",
    "#Copper_price.drop(columns=['Volume', 'Open', 'High', 'Low'], inplace=True)\n",
    "Copper_price.head()"
   ]
  },
  {
   "cell_type": "markdown",
   "metadata": {},
   "source": [
    "### Set time to index"
   ]
  },
  {
   "cell_type": "code",
   "execution_count": 96,
   "metadata": {},
   "outputs": [
    {
     "data": {
      "text/html": [
       "<div>\n",
       "<style scoped>\n",
       "    .dataframe tbody tr th:only-of-type {\n",
       "        vertical-align: middle;\n",
       "    }\n",
       "\n",
       "    .dataframe tbody tr th {\n",
       "        vertical-align: top;\n",
       "    }\n",
       "\n",
       "    .dataframe thead th {\n",
       "        text-align: right;\n",
       "    }\n",
       "</style>\n",
       "<table border=\"1\" class=\"dataframe\">\n",
       "  <thead>\n",
       "    <tr style=\"text-align: right;\">\n",
       "      <th></th>\n",
       "      <th>Close</th>\n",
       "      <th>Volume</th>\n",
       "      <th>Open</th>\n",
       "      <th>High</th>\n",
       "      <th>Low</th>\n",
       "    </tr>\n",
       "    <tr>\n",
       "      <th>Date</th>\n",
       "      <th></th>\n",
       "      <th></th>\n",
       "      <th></th>\n",
       "      <th></th>\n",
       "      <th></th>\n",
       "    </tr>\n",
       "  </thead>\n",
       "  <tbody>\n",
       "    <tr>\n",
       "      <th>2024-08-13</th>\n",
       "      <td>4.0855</td>\n",
       "      <td>20096</td>\n",
       "      <td>4.1005</td>\n",
       "      <td>4.109</td>\n",
       "      <td>4.0455</td>\n",
       "    </tr>\n",
       "    <tr>\n",
       "      <th>2024-08-12</th>\n",
       "      <td>4.0685</td>\n",
       "      <td>48834</td>\n",
       "      <td>3.9830</td>\n",
       "      <td>4.093</td>\n",
       "      <td>3.9710</td>\n",
       "    </tr>\n",
       "    <tr>\n",
       "      <th>2024-08-09</th>\n",
       "      <td>3.9930</td>\n",
       "      <td>48657</td>\n",
       "      <td>3.9835</td>\n",
       "      <td>4.049</td>\n",
       "      <td>3.9740</td>\n",
       "    </tr>\n",
       "    <tr>\n",
       "      <th>2024-08-08</th>\n",
       "      <td>3.9590</td>\n",
       "      <td>61544</td>\n",
       "      <td>3.9315</td>\n",
       "      <td>3.984</td>\n",
       "      <td>3.9235</td>\n",
       "    </tr>\n",
       "    <tr>\n",
       "      <th>2024-08-07</th>\n",
       "      <td>3.9520</td>\n",
       "      <td>62696</td>\n",
       "      <td>4.0080</td>\n",
       "      <td>4.016</td>\n",
       "      <td>3.9210</td>\n",
       "    </tr>\n",
       "  </tbody>\n",
       "</table>\n",
       "</div>"
      ],
      "text/plain": [
       "             Close  Volume    Open   High     Low\n",
       "Date                                             \n",
       "2024-08-13  4.0855   20096  4.1005  4.109  4.0455\n",
       "2024-08-12  4.0685   48834  3.9830  4.093  3.9710\n",
       "2024-08-09  3.9930   48657  3.9835  4.049  3.9740\n",
       "2024-08-08  3.9590   61544  3.9315  3.984  3.9235\n",
       "2024-08-07  3.9520   62696  4.0080  4.016  3.9210"
      ]
     },
     "execution_count": 96,
     "metadata": {},
     "output_type": "execute_result"
    }
   ],
   "source": [
    "Copper_price[\"Date\"] = pd.to_datetime(Copper_price[\"Date\"])\n",
    "data = Copper_price.set_index(\"Date\")\n",
    "data.head()"
   ]
  },
  {
   "cell_type": "code",
   "execution_count": 97,
   "metadata": {},
   "outputs": [
    {
     "data": {
      "text/plain": [
       "<Axes: xlabel='Date'>"
      ]
     },
     "execution_count": 97,
     "metadata": {},
     "output_type": "execute_result"
    },
    {
     "data": {
      "image/png": "[encoded data removed]",
      "text/plain": [
       "<Figure size 640x480 with 1 Axes>"
      ]
     },
     "metadata": {},
     "output_type": "display_data"
    }
   ],
   "source": [
    "data[['Close']].plot()"
   ]
  },
  {
   "cell_type": "markdown",
   "metadata": {},
   "source": [
    "### Test stationarity"
   ]
  },
  {
   "cell_type": "code",
   "execution_count": 98,
   "metadata": {},
   "outputs": [
    {
     "name": "stdout",
     "output_type": "stream",
     "text": [
      "Results of Dickey-Fuller Test\n",
      "================================================\n",
      "Test Statistic                  -1.027806\n",
      "p-value                          0.742988\n",
      "#Lags Used                       0.000000\n",
      "Number of Observations Used    251.000000\n",
      "Criterical Value (1%)           -3.456674\n",
      "Criterical Value (5%)           -2.873125\n",
      "Criterical Value (10%)          -2.572944\n",
      "dtype: float64\n",
      "================================================\n",
      "The data is non-stationary, so do differencing!\n"
     ]
    }
   ],
   "source": [
    "def adf_test(timeseries):\n",
    "    #Perform Dickey-Fuller test:\n",
    "    print(\"Results of Dickey-Fuller Test\\n================================================\")\n",
    "    dftest = adfuller(timeseries, autolag=\"AIC\")\n",
    "    dfoutput = pd.Series(dftest[0:4], index = [\n",
    "        \"Test Statistic\", \"p-value\", \"#Lags Used\", \"Number of Observations Used\"])\n",
    "    for key, value in dftest[4].items():\n",
    "        dfoutput[\"Criterical Value (%s)\"%key] = value\n",
    "    print(dfoutput)\n",
    "    print(\"================================================\")  \n",
    "    #寫個自動判斷式\n",
    "    if dfoutput[0] < dfoutput[4]:\n",
    "        print(\"The data is stationary. (Criterical Value 1%)\")  \n",
    "    elif dfoutput[0] < dfoutput[5]:\n",
    "        print(\"The data is stationary. (Criterical Value 5%)\") \n",
    "    elif dfoutput[0] < dfoutput[6]:\n",
    "        print(\"The data is stationary. (Criterical Value 10%)\")\n",
    "    else:\n",
    "        print(\"The data is non-stationary, so do differencing!\")\n",
    "\n",
    "adf_test(data['Close'])"
   ]
  },
  {
   "cell_type": "markdown",
   "metadata": {},
   "source": [
    "### differencing|"
   ]
  },
  {
   "cell_type": "code",
   "execution_count": 103,
   "metadata": {},
   "outputs": [
    {
     "name": "stdout",
     "output_type": "stream",
     "text": [
      "Dickey-Fuller Test Results (Original Data):\n",
      "Test Statistic: -1.0278061167706085\n",
      "p-value: 0.7429880628789449\n",
      "Critical Values: {'1%': -3.4566744514553016, '5%': -2.8731248767783426, '10%': -2.5729436702592023}\n"
     ]
    }
   ],
   "source": [
    "result = adfuller(data['Close'])\n",
    "print('Dickey-Fuller Test Results (Original Data):')\n",
    "print(f'Test Statistic: {result[0]}')\n",
    "print(f'p-value: {result[1]}')\n",
    "print(f'Critical Values: {result[4]}')\n",
    "\n",
    "# Perform first differencing\n",
    "data_diff = data['Close'].diff(5).dropna()"
   ]
  },
  {
   "cell_type": "code",
   "execution_count": 104,
   "metadata": {},
   "outputs": [
    {
     "name": "stdout",
     "output_type": "stream",
     "text": [
      "Results of Dickey-Fuller Test\n",
      "================================================\n",
      "Test Statistic                  -3.446820\n",
      "p-value                          0.009463\n",
      "#Lags Used                      10.000000\n",
      "Number of Observations Used    236.000000\n",
      "Criterical Value (1%)           -3.458366\n",
      "Criterical Value (5%)           -2.873866\n",
      "Criterical Value (10%)          -2.573339\n",
      "dtype: float64\n",
      "================================================\n",
      "The data is stationary. (Criterical Value 5%)\n"
     ]
    }
   ],
   "source": [
    "adf_test(data_diff)"
   ]
  },
  {
   "cell_type": "markdown",
   "metadata": {},
   "source": [
    "## ARIMA Model"
   ]
  },
  {
   "cell_type": "markdown",
   "metadata": {},
   "source": [
    "### Grid Search to find best parameter"
   ]
  },
  {
   "cell_type": "code",
   "execution_count": 105,
   "metadata": {},
   "outputs": [
    {
     "name": "stdout",
     "output_type": "stream",
     "text": [
      "Best ARIMA order: (0, 0, 4) with AIC: -717.8098040629311\n"
     ]
    }
   ],
   "source": [
    "\n",
    "def find_best_arima(data, p_values, d_values, q_values):\n",
    "    best_aic = np.inf\n",
    "    best_order = None\n",
    "    best_model = None\n",
    "\n",
    "    # Iterate over all possible combinations of p, d, q\n",
    "    for p, d, q in itertools.product(p_values, d_values, q_values):\n",
    "        try:\n",
    "            # Fit the ARIMA model\n",
    "            model = ARIMA(data, order=(p, d, q))\n",
    "            model_fit = model.fit()\n",
    "            \n",
    "            # Check if the current model has the lowest AIC\n",
    "            if model_fit.aic < best_aic:\n",
    "                best_aic = model_fit.aic\n",
    "                best_order = (p, d, q)\n",
    "                best_model = model_fit\n",
    "        \n",
    "        except Exception as e:\n",
    "            continue\n",
    "\n",
    "    return best_order, best_aic, best_model\n",
    "\n",
    "# Define the range of p, d, q values\n",
    "p_values = range(0, 5)\n",
    "d_values = range(0, 3)\n",
    "q_values = range(0, 5)\n",
    "\n",
    "# Call the function to find the best ARIMA model\n",
    "best_order, best_aic, best_model = find_best_arima(data_diff, p_values, d_values, q_values)\n",
    "\n",
    "print(f'Best ARIMA order: {best_order} with AIC: {best_aic}')"
   ]
  },
  {
   "cell_type": "code",
   "execution_count": 113,
   "metadata": {},
   "outputs": [
    {
     "data": {
      "text/plain": [
       "0.0"
      ]
     },
     "execution_count": 113,
     "metadata": {},
     "output_type": "execute_result"
    }
   ],
   "source": [
    "price_for[0]"
   ]
  },
  {
   "cell_type": "code",
   "execution_count": 114,
   "metadata": {},
   "outputs": [
    {
     "data": {
      "text/plain": [
       "4.0855"
      ]
     },
     "execution_count": 114,
     "metadata": {},
     "output_type": "execute_result"
    }
   ],
   "source": [
    "data['Close'][0]"
   ]
  },
  {
   "cell_type": "code",
   "execution_count": 121,
   "metadata": {},
   "outputs": [],
   "source": [
    "diff_forecast = diff_forecast.reindex()"
   ]
  },
  {
   "cell_type": "code",
   "execution_count": 124,
   "metadata": {},
   "outputs": [
    {
     "data": {
      "text/plain": [
       "-0.012686948247657167"
      ]
     },
     "execution_count": 124,
     "metadata": {},
     "output_type": "execute_result"
    }
   ],
   "source": [
    "list(diff_forecast)[0]"
   ]
  },
  {
   "cell_type": "code",
   "execution_count": 128,
   "metadata": {},
   "outputs": [
    {
     "name": "stdout",
     "output_type": "stream",
     "text": [
      "                               SARIMAX Results                                \n",
      "==============================================================================\n",
      "Dep. Variable:                  Close   No. Observations:                  247\n",
      "Model:                 ARIMA(0, 0, 4)   Log Likelihood                 364.905\n",
      "Date:                Wed, 14 Aug 2024   AIC                           -717.810\n",
      "Time:                        15:09:07   BIC                           -696.753\n",
      "Sample:                             0   HQIC                          -709.332\n",
      "                                - 247                                         \n",
      "Covariance Type:                  opg                                         \n",
      "==============================================================================\n",
      "                 coef    std err          z      P>|z|      [0.025      0.975]\n",
      "------------------------------------------------------------------------------\n",
      "const         -0.0075      0.018     -0.425      0.671      -0.042       0.027\n",
      "ma.L1          1.0182      0.261      3.906      0.000       0.507       1.529\n",
      "ma.L2          1.0507      0.171      6.162      0.000       0.717       1.385\n",
      "ma.L3          1.0110      0.124      8.130      0.000       0.767       1.255\n",
      "ma.L4          0.9934      0.322      3.081      0.002       0.362       1.625\n",
      "sigma2         0.0029      0.001      3.129      0.002       0.001       0.005\n",
      "===================================================================================\n",
      "Ljung-Box (L1) (Q):                   0.16   Jarque-Bera (JB):                23.09\n",
      "Prob(Q):                              0.69   Prob(JB):                         0.00\n",
      "Heteroskedasticity (H):               0.29   Skew:                             0.17\n",
      "Prob(H) (two-sided):                  0.00   Kurtosis:                         4.46\n",
      "===================================================================================\n",
      "\n",
      "Warnings:\n",
      "[1] Covariance matrix calculated using the outer product of gradients (complex-step).\n",
      "[-0.012686948247657167, -0.014596780127951106, 0.02169504356887831, 0.014430682040943695, -0.007542363791196658]\n",
      "[4.07281305 4.05821627 4.07991132 4.094342   4.08679963]\n"
     ]
    },
    {
     "data": {
      "image/png": "[encoded data removed]",
      "text/plain": [
       "<Figure size 640x480 with 1 Axes>"
      ]
     },
     "metadata": {},
     "output_type": "display_data"
    }
   ],
   "source": [
    "model = ARIMA(data_diff, order=best_order)\n",
    "model_fit = model.fit()\n",
    "\n",
    "# 模型摘要\n",
    "print(model_fit.summary())\n",
    "\n",
    "# 预测未来30天\n",
    "diff_forecast = list(model_fit.forecast(steps=5))\n",
    "print(diff_forecast)\n",
    "\n",
    "\n",
    "price_for = np.zeros(len(diff_forecast))\n",
    "price_for[0] = data['Close'][0] + diff_forecast[0]\n",
    "\n",
    "for i in range(1, len(diff_forecast)):\n",
    "    price_for[i] = price_for[i-1] + diff_forecast[i]\n",
    "\n",
    "# 输出转换后的价格预测\n",
    "print(price_for)\n",
    "\n",
    "plt.plot(price_for, label='Forecast', color='red')\n",
    "plt.show()"
   ]
  }
 ],
 "metadata": {
  "kernelspec": {
   "display_name": "Python 3",
   "language": "python",
   "name": "python3"
  },
  "language_info": {
   "codemirror_mode": {
    "name": "ipython",
    "version": 3
   },
   "file_extension": ".py",
   "mimetype": "text/x-python",
   "name": "python",
   "nbconvert_exporter": "python",
   "pygments_lexer": "ipython3",
   "version": "3.11.9"
  }
 },
 "nbformat": 4,
 "nbformat_minor": 2
}

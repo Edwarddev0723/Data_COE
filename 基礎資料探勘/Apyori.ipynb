{
 "cells": [
  {
   "cell_type": "code",
   "execution_count": 3,
   "metadata": {},
   "outputs": [
    {
     "name": "stdout",
     "output_type": "stream",
     "text": [
      "['Basketball', 'Socks']\n",
      "Rule: Basketball →Socks\n",
      "Support: 0.25\n",
      "Lift: 2.0\n",
      "==================================\n",
      "['Bottle', 'Pants']\n",
      "Rule: Bottle →Pants\n",
      "Support: 0.25\n",
      "Lift: 2.6666666666666665\n",
      "==================================\n",
      "['Socks', 'Bottle']\n",
      "Rule: Socks →Bottle\n",
      "Support: 0.25\n",
      "Lift: 2.6666666666666665\n",
      "==================================\n",
      "['Jeans', 'Pants']\n",
      "Rule: Jeans →Pants\n",
      "Support: 0.25\n",
      "Lift: 2.6666666666666665\n",
      "==================================\n",
      "['Socks', 'Jersy']\n",
      "Rule: Socks →Jersy\n",
      "Support: 0.25\n",
      "Lift: 2.0\n",
      "==================================\n"
     ]
    }
   ],
   "source": [
    "from apyori import apriori\n",
    "## Data 自行定義數據\n",
    "market_data = [['T-Shirt','Pants','Jeans','Jersy','Socks','Basketball','Bottle','Shorts'],\n",
    " ['T-Shirt','Jeans'],\n",
    " ['Jersy','Basketball','Socks','Bottle'],\n",
    " ['Jeans','Pants','Bottle'],\n",
    " ['Shorts','Basketball'],\n",
    " ['Shorts','Jersy'],\n",
    " ['T-Shirt'],\n",
    " ['Basketball','Jersy'],\n",
    " ]\n",
    "association_rules = apriori(market_data, min_support=0.2, min_confidence=0.2, min_lift=2, max_length=2)\n",
    "association_results = list(association_rules)\n",
    "##print(association_results )\n",
    "for product in association_results:\n",
    " #print(product) # ex. RelationRecord(items=frozenset({'Basketball', 'Socks'}), support=0.25, ordered_statistics=[OrderedStatistic(items_base=frozenset({'Basketball'}), items_add=frozenset({'Socks'}), confidence=0.5, lift=2.0), OrderedStatistic(items_base=frozenset({'Socks'}), items_add=frozenset({'Basketball'}), confidence=1.0, lift=2.0)])\n",
    " pair = product[0] \n",
    " ##print(pair) ## ex. frozenset({'Basketball', 'Socks'})\n",
    " products = [x for x in pair]\n",
    " print(products) # ex. ['Basketball', 'Socks']\n",
    " print(\"Rule: \" + products[0] + \" →\" + products[1])\n",
    " print(\"Support: \" + str(product[1]))\n",
    " print(\"Lift: \" + str(product[2][0][3]))\n",
    " print(\"==================================\")"
   ]
  }
 ],
 "metadata": {
  "kernelspec": {
   "display_name": "Python 3",
   "language": "python",
   "name": "python3"
  },
  "language_info": {
   "codemirror_mode": {
    "name": "ipython",
    "version": 3
   },
   "file_extension": ".py",
   "mimetype": "text/x-python",
   "name": "python",
   "nbconvert_exporter": "python",
   "pygments_lexer": "ipython3",
   "version": "3.11.9"
  }
 },
 "nbformat": 4,
 "nbformat_minor": 2
}
